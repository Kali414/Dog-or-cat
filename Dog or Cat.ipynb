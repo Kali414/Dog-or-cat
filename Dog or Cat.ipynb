{
 "cells": [
  {
   "cell_type": "code",
   "execution_count": 1,
   "id": "c1bfb6d8-a20a-45d0-976b-154ac5b6b0a7",
   "metadata": {},
   "outputs": [
    {
     "name": "stdout",
     "output_type": "stream",
     "text": [
      "WARNING:tensorflow:From C:\\Users\\HP\\AppData\\Local\\Programs\\Python\\Python311\\Lib\\site-packages\\keras\\src\\losses.py:2976: The name tf.losses.sparse_softmax_cross_entropy is deprecated. Please use tf.compat.v1.losses.sparse_softmax_cross_entropy instead.\n",
      "\n"
     ]
    }
   ],
   "source": [
    "import numpy as np\n",
    "import pandas as pd\n",
    "import tensorflow as tf"
   ]
  },
  {
   "cell_type": "code",
   "execution_count": 2,
   "id": "254aa098-8420-406d-9621-e677876a7576",
   "metadata": {},
   "outputs": [
    {
     "data": {
      "text/plain": [
       "'2.15.0'"
      ]
     },
     "execution_count": 2,
     "metadata": {},
     "output_type": "execute_result"
    }
   ],
   "source": [
    "tf.__version__"
   ]
  },
  {
   "cell_type": "code",
   "execution_count": 3,
   "id": "665c7e5a-9242-4291-bb98-e14c144f450f",
   "metadata": {},
   "outputs": [],
   "source": [
    "#Importing image data generator\n",
    "from tensorflow.keras.preprocessing.image import ImageDataGenerator\n",
    "idg=ImageDataGenerator()"
   ]
  },
  {
   "cell_type": "code",
   "execution_count": 4,
   "id": "8d53861c-5c26-45d1-931f-6278ebc39758",
   "metadata": {},
   "outputs": [
    {
     "name": "stdout",
     "output_type": "stream",
     "text": [
      "Found 8000 images belonging to 2 classes.\n",
      "Found 2000 images belonging to 2 classes.\n"
     ]
    }
   ],
   "source": [
    "# Preprocessing of data\n",
    "from tensorflow.keras.preprocessing.image import ImageDataGenerator\n",
    "\n",
    "train_datagen = ImageDataGenerator(rescale=1./255,\n",
    "                                   shear_range=0.2,\n",
    "                                   zoom_range=0.2,\n",
    "                                   horizontal_flip=True)\n",
    "\n",
    "training_set = train_datagen.flow_from_directory(\"C:\\\\Users\\\\HP\\\\OneDrive\\\\Desktop\\\\jupyter\\\\cnn data\\\\dataset\\\\training_set\",\n",
    "                                                 target_size=(64, 64),\n",
    "                                                 batch_size=32,\n",
    "                                                 class_mode='binary')\n",
    "\n",
    "test_datagen = ImageDataGenerator(rescale=1./255)\n",
    "test_set = test_datagen.flow_from_directory(\"C:\\\\Users\\HP\\\\OneDrive\\\\Desktop\\\\jupyter\\\\cnn data\\\\dataset\\\\test_set\",\n",
    "                                            target_size=(64, 64),\n",
    "                                            batch_size=32,\n",
    "                                            class_mode='binary')\n"
   ]
  },
  {
   "cell_type": "code",
   "execution_count": 5,
   "id": "7b22acde-5e36-40a0-bfaa-d77795081147",
   "metadata": {},
   "outputs": [
    {
     "name": "stdout",
     "output_type": "stream",
     "text": [
      "WARNING:tensorflow:From C:\\Users\\HP\\AppData\\Local\\Programs\\Python\\Python311\\Lib\\site-packages\\keras\\src\\backend.py:873: The name tf.get_default_graph is deprecated. Please use tf.compat.v1.get_default_graph instead.\n",
      "\n"
     ]
    }
   ],
   "source": [
    "#Initialising the CNN\n",
    "cnn = tf.keras.models.Sequential()"
   ]
  },
  {
   "cell_type": "code",
   "execution_count": 6,
   "id": "705ca7bc-660c-4af8-be2b-d8c2ee927add",
   "metadata": {},
   "outputs": [
    {
     "name": "stdout",
     "output_type": "stream",
     "text": [
      "WARNING:tensorflow:From C:\\Users\\HP\\AppData\\Local\\Programs\\Python\\Python311\\Lib\\site-packages\\keras\\src\\layers\\pooling\\max_pooling2d.py:161: The name tf.nn.max_pool is deprecated. Please use tf.nn.max_pool2d instead.\n",
      "\n"
     ]
    }
   ],
   "source": [
    "cnn.add(tf.keras.layers.Conv2D(filters=32, kernel_size=3, activation='relu', input_shape=[64, 64, 3]))\n",
    "cnn.add(tf.keras.layers.MaxPool2D(pool_size=2, strides=2))"
   ]
  },
  {
   "cell_type": "code",
   "execution_count": 7,
   "id": "72eb3c73-b6e6-4888-9866-bb228496bdaf",
   "metadata": {},
   "outputs": [],
   "source": [
    "cnn.add(tf.keras.layers.Conv2D(filters=32, kernel_size=3, activation='relu'))\n",
    "cnn.add(tf.keras.layers.MaxPool2D(pool_size=2, strides=2))"
   ]
  },
  {
   "cell_type": "code",
   "execution_count": 8,
   "id": "c55cbc07-bca1-4dcf-afd8-1d66699d4965",
   "metadata": {},
   "outputs": [],
   "source": [
    "cnn.add(tf.keras.layers.Flatten())"
   ]
  },
  {
   "cell_type": "code",
   "execution_count": 9,
   "id": "729721f7-ce40-4c20-a527-b34623812ff1",
   "metadata": {},
   "outputs": [],
   "source": [
    "cnn.add(tf.keras.layers.Dense(units=128, activation='relu'))"
   ]
  },
  {
   "cell_type": "code",
   "execution_count": 10,
   "id": "362f655c-85b6-43ef-91cb-bbf6d9cdacbc",
   "metadata": {},
   "outputs": [],
   "source": [
    "cnn.add(tf.keras.layers.Dense(units=1, activation='sigmoid'))"
   ]
  },
  {
   "cell_type": "code",
   "execution_count": 11,
   "id": "cf637030-6c59-4747-bf1b-7336660f4680",
   "metadata": {},
   "outputs": [
    {
     "name": "stdout",
     "output_type": "stream",
     "text": [
      "WARNING:tensorflow:From C:\\Users\\HP\\AppData\\Local\\Programs\\Python\\Python311\\Lib\\site-packages\\keras\\src\\optimizers\\__init__.py:309: The name tf.train.Optimizer is deprecated. Please use tf.compat.v1.train.Optimizer instead.\n",
      "\n"
     ]
    }
   ],
   "source": [
    "cnn.compile(optimizer = 'adam', loss = 'binary_crossentropy', metrics = ['accuracy'])"
   ]
  },
  {
   "cell_type": "code",
   "execution_count": null,
   "id": "eaaad7e7-8b17-47be-9f6c-cdf9bac1e80d",
   "metadata": {},
   "outputs": [
    {
     "name": "stdout",
     "output_type": "stream",
     "text": [
      "Epoch 1/25\n",
      "WARNING:tensorflow:From C:\\Users\\HP\\AppData\\Local\\Programs\\Python\\Python311\\Lib\\site-packages\\keras\\src\\utils\\tf_utils.py:492: The name tf.ragged.RaggedTensorValue is deprecated. Please use tf.compat.v1.ragged.RaggedTensorValue instead.\n",
      "\n",
      "WARNING:tensorflow:From C:\\Users\\HP\\AppData\\Local\\Programs\\Python\\Python311\\Lib\\site-packages\\keras\\src\\engine\\base_layer_utils.py:384: The name tf.executing_eagerly_outside_functions is deprecated. Please use tf.compat.v1.executing_eagerly_outside_functions instead.\n",
      "\n",
      "250/250 [==============================] - 144s 572ms/step - loss: 0.6795 - accuracy: 0.5701 - val_loss: 0.6409 - val_accuracy: 0.6410\n",
      "Epoch 2/25\n",
      "250/250 [==============================] - 29s 116ms/step - loss: 0.6356 - accuracy: 0.6420 - val_loss: 0.5910 - val_accuracy: 0.6955\n",
      "Epoch 3/25\n",
      "250/250 [==============================] - 25s 100ms/step - loss: 0.5759 - accuracy: 0.6994 - val_loss: 0.5722 - val_accuracy: 0.7040\n",
      "Epoch 4/25\n",
      "250/250 [==============================] - 24s 97ms/step - loss: 0.5434 - accuracy: 0.7224 - val_loss: 0.5474 - val_accuracy: 0.7300\n",
      "Epoch 5/25\n",
      "250/250 [==============================] - 24s 96ms/step - loss: 0.5191 - accuracy: 0.7425 - val_loss: 0.5305 - val_accuracy: 0.7485\n",
      "Epoch 6/25\n",
      "250/250 [==============================] - 24s 94ms/step - loss: 0.5030 - accuracy: 0.7550 - val_loss: 0.4998 - val_accuracy: 0.7540\n",
      "Epoch 7/25\n",
      "250/250 [==============================] - 27s 109ms/step - loss: 0.4777 - accuracy: 0.7689 - val_loss: 0.5003 - val_accuracy: 0.7560\n",
      "Epoch 8/25\n",
      "250/250 [==============================] - 25s 99ms/step - loss: 0.4697 - accuracy: 0.7772 - val_loss: 0.4914 - val_accuracy: 0.7645\n",
      "Epoch 9/25\n",
      "250/250 [==============================] - 25s 102ms/step - loss: 0.4410 - accuracy: 0.7884 - val_loss: 0.4945 - val_accuracy: 0.7765\n",
      "Epoch 10/25\n",
      "250/250 [==============================] - 25s 100ms/step - loss: 0.4337 - accuracy: 0.7999 - val_loss: 0.5039 - val_accuracy: 0.7580\n",
      "Epoch 11/25\n",
      "250/250 [==============================] - 34s 136ms/step - loss: 0.4171 - accuracy: 0.8035 - val_loss: 0.4707 - val_accuracy: 0.7845\n",
      "Epoch 12/25\n",
      "250/250 [==============================] - 36s 143ms/step - loss: 0.4048 - accuracy: 0.8131 - val_loss: 0.4697 - val_accuracy: 0.7840\n",
      "Epoch 13/25\n",
      "250/250 [==============================] - 34s 135ms/step - loss: 0.3816 - accuracy: 0.8303 - val_loss: 0.4796 - val_accuracy: 0.7850\n",
      "Epoch 14/25\n",
      "250/250 [==============================] - 33s 133ms/step - loss: 0.3687 - accuracy: 0.8375 - val_loss: 0.4827 - val_accuracy: 0.7870\n",
      "Epoch 15/25\n",
      "250/250 [==============================] - 36s 145ms/step - loss: 0.3564 - accuracy: 0.8431 - val_loss: 0.5133 - val_accuracy: 0.7785\n",
      "Epoch 16/25\n",
      "250/250 [==============================] - 33s 131ms/step - loss: 0.3279 - accuracy: 0.8580 - val_loss: 0.4979 - val_accuracy: 0.7900\n",
      "Epoch 17/25\n",
      "250/250 [==============================] - 33s 132ms/step - loss: 0.3222 - accuracy: 0.8602 - val_loss: 0.4973 - val_accuracy: 0.7880\n",
      "Epoch 18/25\n",
      "250/250 [==============================] - 35s 140ms/step - loss: 0.3036 - accuracy: 0.8675 - val_loss: 0.5133 - val_accuracy: 0.7820\n",
      "Epoch 19/25\n",
      "250/250 [==============================] - 35s 139ms/step - loss: 0.2858 - accuracy: 0.8774 - val_loss: 0.5148 - val_accuracy: 0.8035\n",
      "Epoch 20/25\n",
      "250/250 [==============================] - 34s 134ms/step - loss: 0.2692 - accuracy: 0.8879 - val_loss: 0.5208 - val_accuracy: 0.7895\n",
      "Epoch 21/25\n",
      "250/250 [==============================] - 34s 134ms/step - loss: 0.2518 - accuracy: 0.8949 - val_loss: 0.5428 - val_accuracy: 0.7960\n",
      "Epoch 22/25\n",
      "250/250 [==============================] - 36s 146ms/step - loss: 0.2546 - accuracy: 0.8924 - val_loss: 0.5390 - val_accuracy: 0.7990\n",
      "Epoch 23/25\n",
      "250/250 [==============================] - 33s 133ms/step - loss: 0.2303 - accuracy: 0.9074 - val_loss: 0.5772 - val_accuracy: 0.7925\n",
      "Epoch 24/25\n",
      "250/250 [==============================] - 33s 132ms/step - loss: 0.2160 - accuracy: 0.9153 - val_loss: 0.5942 - val_accuracy: 0.7850\n",
      "Epoch 25/25\n",
      "172/250 [===================>..........] - ETA: 9s - loss: 0.2086 - accuracy: 0.9157"
     ]
    }
   ],
   "source": [
    "cnn.fit(x = training_set, validation_data = test_set, epochs = 25)"
   ]
  },
  {
   "cell_type": "code",
   "execution_count": null,
   "id": "c9d2d7bf-0eb0-4f28-8303-1c5f24b21043",
   "metadata": {},
   "outputs": [],
   "source": [
    "import numpy as np\n",
    "from keras.preprocessing import image\n",
    "test_image = image.load_img(\"C:\\\\Users\\\\HP\\\\OneDrive\\\\Desktop\\\\jupyter\\\\cnn data\\\\cat.jpeg\", target_size = (64, 64))\n",
    "test_image = image.img_to_array(test_image)\n",
    "test_image = np.expand_dims(test_image, axis = 0)\n",
    "result = cnn.predict(test_image)\n",
    "training_set.class_indices\n",
    "if result[0][0] == 1:\n",
    "  prediction = 'dog'\n",
    "else:\n",
    "  prediction = 'cat'"
   ]
  },
  {
   "cell_type": "code",
   "execution_count": null,
   "id": "648c10a0-1e6b-4995-b961-73c14da7ae45",
   "metadata": {},
   "outputs": [],
   "source": [
    "print(prediction)"
   ]
  },
  {
   "cell_type": "code",
   "execution_count": null,
   "id": "5de27f20-af49-4428-a144-daaa249a344e",
   "metadata": {},
   "outputs": [],
   "source": []
  }
 ],
 "metadata": {
  "kernelspec": {
   "display_name": "Python 3 (ipykernel)",
   "language": "python",
   "name": "python3"
  },
  "language_info": {
   "codemirror_mode": {
    "name": "ipython",
    "version": 3
   },
   "file_extension": ".py",
   "mimetype": "text/x-python",
   "name": "python",
   "nbconvert_exporter": "python",
   "pygments_lexer": "ipython3",
   "version": "3.11.4"
  }
 },
 "nbformat": 4,
 "nbformat_minor": 5
}
